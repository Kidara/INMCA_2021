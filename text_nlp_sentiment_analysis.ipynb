{
  "nbformat": 4,
  "nbformat_minor": 5,
  "metadata": {
    "kernelspec": {
      "display_name": "Python 3",
      "language": "python",
      "name": "python3"
    },
    "language_info": {
      "codemirror_mode": {
        "name": "ipython",
        "version": 3
      },
      "file_extension": ".py",
      "mimetype": "text/x-python",
      "name": "python",
      "nbconvert_exporter": "python",
      "pygments_lexer": "ipython3",
      "version": "3.7.10"
    },
    "papermill": {
      "default_parameters": {},
      "duration": 1262.333488,
      "end_time": "2021-05-21T05:36:45.033688",
      "environment_variables": {},
      "exception": null,
      "input_path": "__notebook__.ipynb",
      "output_path": "__notebook__.ipynb",
      "parameters": {},
      "start_time": "2021-05-21T05:15:42.700200",
      "version": "2.3.3"
    },
    "colab": {
      "name": "text_nlp_sentiment_analysis.ipynb",
      "provenance": [],
      "include_colab_link": true
    }
  },
  "cells": [
    {
      "cell_type": "markdown",
      "metadata": {
        "id": "view-in-github",
        "colab_type": "text"
      },
      "source": [
        "<a href=\"https://colab.research.google.com/github/Kidara/INMCA_2021/blob/main/text_nlp_sentiment_analysis.ipynb\" target=\"_parent\"><img src=\"https://colab.research.google.com/assets/colab-badge.svg\" alt=\"Open In Colab\"/></a>"
      ]
    },
    {
      "cell_type": "markdown",
      "metadata": {
        "id": "1HOIF-GwbenA"
      },
      "source": [
        "# Setup GDrive"
      ],
      "id": "1HOIF-GwbenA"
    },
    {
      "cell_type": "code",
      "metadata": {
        "colab": {
          "base_uri": "https://localhost:8080/"
        },
        "id": "uy4Hh1j-bgvA",
        "outputId": "61321da8-5600-4810-fd5b-141b4f42f7e6"
      },
      "source": [
        "from google.colab import drive\n",
        "drive.mount('/content/gdrive')"
      ],
      "id": "uy4Hh1j-bgvA",
      "execution_count": 4,
      "outputs": [
        {
          "output_type": "stream",
          "name": "stdout",
          "text": [
            "Mounted at /content/gdrive\n"
          ]
        }
      ]
    },
    {
      "cell_type": "code",
      "metadata": {
        "id": "RNyP-4g6bhLw"
      },
      "source": [
        "!unzip -q '/content/gdrive/MyDrive/Colab Notebooks/INMCA_2021/PMEmo2019.zip'"
      ],
      "id": "RNyP-4g6bhLw",
      "execution_count": 5,
      "outputs": []
    },
    {
      "cell_type": "code",
      "metadata": {
        "id": "_w2pcc9Db1oI"
      },
      "source": [
        "dir_path = '/content/PMEmo2019/lyrics'"
      ],
      "id": "_w2pcc9Db1oI",
      "execution_count": 6,
      "outputs": []
    },
    {
      "cell_type": "markdown",
      "metadata": {
        "id": "K2p-w8Vdbhj4"
      },
      "source": [
        "# Setup"
      ],
      "id": "K2p-w8Vdbhj4"
    },
    {
      "cell_type": "code",
      "metadata": {
        "_cell_guid": "b1076dfc-b9ad-4769-8c92-a6c4dae69d19",
        "_uuid": "8f2839f25d086af736a60e9eeb907d3b93b6e0e5",
        "execution": {
          "iopub.execute_input": "2021-05-21T05:15:50.884195Z",
          "iopub.status.busy": "2021-05-21T05:15:50.882998Z",
          "iopub.status.idle": "2021-05-21T05:15:50.891521Z",
          "shell.execute_reply": "2021-05-21T05:15:50.892077Z",
          "shell.execute_reply.started": "2021-05-21T05:12:45.603135Z"
        },
        "papermill": {
          "duration": 0.018952,
          "end_time": "2021-05-21T05:15:50.892387",
          "exception": false,
          "start_time": "2021-05-21T05:15:50.873435",
          "status": "completed"
        },
        "tags": [],
        "id": "dressed-stability"
      },
      "source": [
        "import numpy as np\n",
        "import pandas as pd\n",
        "import os\n",
        "\n",
        "import tqdm\n",
        "import csv\n",
        "import re\n",
        "import nltk\n",
        "from textblob import TextBlob\n",
        "import flair\n",
        "import text2emotion as te"
      ],
      "id": "dressed-stability",
      "execution_count": 9,
      "outputs": []
    },
    {
      "cell_type": "code",
      "metadata": {
        "execution": {
          "iopub.execute_input": "2021-05-21T05:15:50.905233Z",
          "iopub.status.busy": "2021-05-21T05:15:50.904498Z",
          "iopub.status.idle": "2021-05-21T05:16:38.657389Z",
          "shell.execute_reply": "2021-05-21T05:16:38.656651Z",
          "shell.execute_reply.started": "2021-05-21T05:12:45.613650Z"
        },
        "papermill": {
          "duration": 47.759885,
          "end_time": "2021-05-21T05:16:38.657532",
          "exception": false,
          "start_time": "2021-05-21T05:15:50.897647",
          "status": "completed"
        },
        "tags": [],
        "colab": {
          "base_uri": "https://localhost:8080/"
        },
        "id": "premium-seeking",
        "outputId": "c2ec496a-1091-4954-acd0-692b1cc76096"
      },
      "source": [
        "!pip install -q flair\n",
        "!pip install -q text2emotion"
      ],
      "id": "premium-seeking",
      "execution_count": 2,
      "outputs": [
        {
          "output_type": "stream",
          "name": "stdout",
          "text": [
            "\u001b[K     |████████████████████████████████| 319 kB 2.8 MB/s \n",
            "\u001b[K     |████████████████████████████████| 56 kB 4.2 MB/s \n",
            "\u001b[K     |████████████████████████████████| 788 kB 42.4 MB/s \n",
            "\u001b[?25h  Installing build dependencies ... \u001b[?25l\u001b[?25hdone\n",
            "  Getting requirements to build wheel ... \u001b[?25l\u001b[?25hdone\n",
            "    Preparing wheel metadata ... \u001b[?25l\u001b[?25hdone\n",
            "\u001b[K     |████████████████████████████████| 981 kB 31.3 MB/s \n",
            "\u001b[K     |████████████████████████████████| 2.9 MB 29.6 MB/s \n",
            "\u001b[K     |████████████████████████████████| 48 kB 4.3 MB/s \n",
            "\u001b[K     |████████████████████████████████| 64 kB 2.2 MB/s \n",
            "\u001b[K     |████████████████████████████████| 1.2 MB 44.8 MB/s \n",
            "\u001b[K     |████████████████████████████████| 19.7 MB 10.5 MB/s \n",
            "\u001b[K     |████████████████████████████████| 62 kB 555 kB/s \n",
            "\u001b[K     |████████████████████████████████| 3.3 MB 20.3 MB/s \n",
            "\u001b[K     |████████████████████████████████| 596 kB 55.6 MB/s \n",
            "\u001b[K     |████████████████████████████████| 895 kB 68.6 MB/s \n",
            "\u001b[?25h  Building wheel for gdown (PEP 517) ... \u001b[?25l\u001b[?25hdone\n",
            "  Building wheel for mpld3 (setup.py) ... \u001b[?25l\u001b[?25hdone\n",
            "  Building wheel for overrides (setup.py) ... \u001b[?25l\u001b[?25hdone\n",
            "  Building wheel for segtok (setup.py) ... \u001b[?25l\u001b[?25hdone\n",
            "  Building wheel for sqlitedict (setup.py) ... \u001b[?25l\u001b[?25hdone\n",
            "  Building wheel for ftfy (setup.py) ... \u001b[?25l\u001b[?25hdone\n",
            "  Building wheel for langdetect (setup.py) ... \u001b[?25l\u001b[?25hdone\n",
            "  Building wheel for wikipedia-api (setup.py) ... \u001b[?25l\u001b[?25hdone\n",
            "\u001b[31mERROR: pip's dependency resolver does not currently take into account all the packages that are installed. This behaviour is the source of the following dependency conflicts.\n",
            "google-colab 1.0.0 requires requests~=2.23.0, but you have requests 2.26.0 which is incompatible.\n",
            "datascience 0.10.6 requires folium==0.2.1, but you have folium 0.8.3 which is incompatible.\u001b[0m\n",
            "\u001b[K     |████████████████████████████████| 57 kB 1.9 MB/s \n",
            "\u001b[K     |████████████████████████████████| 170 kB 4.9 MB/s \n",
            "\u001b[?25h  Building wheel for emoji (setup.py) ... \u001b[?25l\u001b[?25hdone\n"
          ]
        }
      ]
    },
    {
      "cell_type": "code",
      "metadata": {
        "execution": {
          "iopub.execute_input": "2021-05-21T05:16:38.796936Z",
          "iopub.status.busy": "2021-05-21T05:16:38.796213Z",
          "iopub.status.idle": "2021-05-21T05:36:42.359138Z",
          "shell.execute_reply": "2021-05-21T05:36:42.358356Z",
          "shell.execute_reply.started": "2021-05-21T05:12:45.626290Z"
        },
        "papermill": {
          "duration": 1203.639831,
          "end_time": "2021-05-21T05:36:42.359298",
          "exception": false,
          "start_time": "2021-05-21T05:16:38.719467",
          "status": "completed"
        },
        "tags": [],
        "colab": {
          "base_uri": "https://localhost:8080/",
          "height": 100
        },
        "id": "hybrid-miracle",
        "outputId": "2ad165a7-a6aa-4f30-d397-5c79a4340371"
      },
      "source": [
        "# Setup NTLK Vader model for sentiment analysis\n",
        "nltk.download('vader_lexicon')\n",
        "from nltk.sentiment.vader import SentimentIntensityAnalyzer\n",
        "sid = SentimentIntensityAnalyzer()\n",
        "\n",
        "# Setup Flair Text Classifier\n",
        "flair_sentiment = flair.models.TextClassifier.load('en-sentiment')\n",
        "\n",
        "# Setup output file\n",
        "csv_file = \"text_features.csv\"\n",
        "columns = ['id', 'neg', 'neu', 'pos', 'compound', 'polarity', 'subjectivity', 'flair_sentiment', 'Happy', 'Angry', 'Surprise', 'Sad', 'Fear']\n",
        "with open(csv_file, 'w') as csvfile:\n",
        "    writer = csv.DictWriter(csvfile, columns)\n",
        "    writer.writeheader()\n",
        "\n",
        "# Main loop\n",
        "dirname = dir_path\n",
        "for filename in tqdm.notebook.tqdm(os.listdir(dirname)):\n",
        "    \n",
        "    # Setup text REGEX\n",
        "    REGEX = \"^\\[(\\d{2})\\:(\\d{2})\\.(\\d{2})\\](.+)\"\n",
        "    # Retrieve text from lyrics\n",
        "    lrc_file = os.path.join(dirname, filename)\n",
        "    parsed_text = \"\"\n",
        "    with open(lrc_file, encoding=\"UTF-8\") as lrc:\n",
        "        lyrics = lrc.readlines()\n",
        "        for line in lyrics:\n",
        "            if line.strip():\n",
        "                m = re.search(REGEX, line)\n",
        "                if type(m) is re.Match:\n",
        "                    parsed_text += \" \" + m.group(4).strip()\n",
        "    sentence = parsed_text.strip()\n",
        "    if sentence == \"\":\n",
        "        continue\n",
        "    \n",
        "    # Use lyrics name as ID, following PMEmo dataset convention\n",
        "    features = {\"id\":filename.split('.')[0]}\n",
        "\n",
        "    # Calculate NLTK features\n",
        "    nltk_features = sid.polarity_scores(sentence)\n",
        "\n",
        "    # Calculate TextBlob features\n",
        "    textblob_features = TextBlob(sentence).sentiment\n",
        "    textblob_features = dict(textblob_features._asdict())\n",
        "    textblob_features['polarity'] = (textblob_features['polarity']+1)/2 #Normalization\n",
        "\n",
        "    # Calculate Flair features\n",
        "    s = flair.data.Sentence(sentence)\n",
        "    flair_sentiment.predict(s)\n",
        "    total_sentiment = s.labels\n",
        "    flair_feature = total_sentiment[0].score\n",
        "    if total_sentiment[0].value == 'NEGATIVE':\n",
        "        flair_feature = -flair_feature\n",
        "    flair_features = {\"flair_sentiment\":(flair_feature + 1)/2} #Normalization\n",
        "\n",
        "    # Calculate Text2emotion features\n",
        "    text2emotion_features = te.get_emotion(sentence)\n",
        "\n",
        "    # Update row\n",
        "    features.update(nltk_features)\n",
        "    features.update(textblob_features)\n",
        "    features.update(flair_features)\n",
        "    features.update(text2emotion_features)\n",
        "\n",
        "    # Write row to csv\n",
        "    with open(csv_file, 'a') as csvfile:\n",
        "        writer = csv.DictWriter(csvfile, features.keys())\n",
        "        writer.writerow(features)"
      ],
      "id": "hybrid-miracle",
      "execution_count": 11,
      "outputs": [
        {
          "output_type": "stream",
          "name": "stdout",
          "text": [
            "[nltk_data] Downloading package vader_lexicon to /root/nltk_data...\n",
            "[nltk_data]   Package vader_lexicon is already up-to-date!\n",
            "2021-10-14 11:05:49,589 loading file /root/.flair/models/sentiment-en-mix-distillbert_4.pt\n"
          ]
        },
        {
          "output_type": "display_data",
          "data": {
            "application/vnd.jupyter.widget-view+json": {
              "model_id": "b33c178cb8664e28bd459e6cb40ddcd6",
              "version_minor": 0,
              "version_major": 2
            },
            "text/plain": [
              "  0%|          | 0/629 [00:00<?, ?it/s]"
            ]
          },
          "metadata": {}
        }
      ]
    },
    {
      "cell_type": "code",
      "metadata": {
        "id": "XsVzVXZKemwi"
      },
      "source": [
        "# Save to GDrive\n",
        "!cp -r text_features.csv '/content/gdrive/MyDrive/Colab Notebooks/INMCA_2021/CSV/text_features.csv'"
      ],
      "id": "XsVzVXZKemwi",
      "execution_count": 14,
      "outputs": []
    },
    {
      "cell_type": "code",
      "metadata": {
        "papermill": {
          "duration": 0.249058,
          "end_time": "2021-05-21T05:36:42.856992",
          "exception": false,
          "start_time": "2021-05-21T05:36:42.607934",
          "status": "completed"
        },
        "tags": [],
        "id": "discrete-phoenix"
      },
      "source": [
        ""
      ],
      "id": "discrete-phoenix",
      "execution_count": null,
      "outputs": []
    }
  ]
}