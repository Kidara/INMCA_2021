{
  "nbformat": 4,
  "nbformat_minor": 0,
  "metadata": {
    "kernelspec": {
      "display_name": "Python 3",
      "language": "python",
      "name": "python3"
    },
    "language_info": {
      "codemirror_mode": {
        "name": "ipython",
        "version": 3
      },
      "file_extension": ".py",
      "mimetype": "text/x-python",
      "name": "python",
      "nbconvert_exporter": "python",
      "pygments_lexer": "ipython3",
      "version": "3.6.4"
    },
    "toc": {
      "base_numbering": 1,
      "nav_menu": {},
      "number_sections": true,
      "sideBar": true,
      "skip_h1_title": true,
      "title_cell": "Table of Contents",
      "title_sidebar": "Contents",
      "toc_cell": false,
      "toc_position": {},
      "toc_section_display": true,
      "toc_window_display": true
    },
    "colab": {
      "name": "EDA_features_extraction.ipynb",
      "provenance": []
    },
    "widgets": {
      "application/vnd.jupyter.widget-state+json": {
        "3faf8f8869c34cbab7968fc68aed4047": {
          "model_module": "@jupyter-widgets/controls",
          "model_name": "HBoxModel",
          "model_module_version": "1.5.0",
          "state": {
            "_view_name": "HBoxView",
            "_dom_classes": [],
            "_model_name": "HBoxModel",
            "_view_module": "@jupyter-widgets/controls",
            "_model_module_version": "1.5.0",
            "_view_count": null,
            "_view_module_version": "1.5.0",
            "box_style": "",
            "layout": "IPY_MODEL_a073ea9afaf34eb09975f1fb08460237",
            "_model_module": "@jupyter-widgets/controls",
            "children": [
              "IPY_MODEL_54abe19172bc4c9aa4efeba415005d4d",
              "IPY_MODEL_97d92280512a455c8aa27b6b50aae57f",
              "IPY_MODEL_e71e1d8b97ad43dbb425812d83f68360"
            ]
          }
        },
        "a073ea9afaf34eb09975f1fb08460237": {
          "model_module": "@jupyter-widgets/base",
          "model_name": "LayoutModel",
          "model_module_version": "1.2.0",
          "state": {
            "_view_name": "LayoutView",
            "grid_template_rows": null,
            "right": null,
            "justify_content": null,
            "_view_module": "@jupyter-widgets/base",
            "overflow": null,
            "_model_module_version": "1.2.0",
            "_view_count": null,
            "flex_flow": null,
            "width": null,
            "min_width": null,
            "border": null,
            "align_items": null,
            "bottom": null,
            "_model_module": "@jupyter-widgets/base",
            "top": null,
            "grid_column": null,
            "overflow_y": null,
            "overflow_x": null,
            "grid_auto_flow": null,
            "grid_area": null,
            "grid_template_columns": null,
            "flex": null,
            "_model_name": "LayoutModel",
            "justify_items": null,
            "grid_row": null,
            "max_height": null,
            "align_content": null,
            "visibility": null,
            "align_self": null,
            "height": null,
            "min_height": null,
            "padding": null,
            "grid_auto_rows": null,
            "grid_gap": null,
            "max_width": null,
            "order": null,
            "_view_module_version": "1.2.0",
            "grid_template_areas": null,
            "object_position": null,
            "object_fit": null,
            "grid_auto_columns": null,
            "margin": null,
            "display": null,
            "left": null
          }
        },
        "54abe19172bc4c9aa4efeba415005d4d": {
          "model_module": "@jupyter-widgets/controls",
          "model_name": "HTMLModel",
          "model_module_version": "1.5.0",
          "state": {
            "_view_name": "HTMLView",
            "style": "IPY_MODEL_532cb65e4b7b49f0bbdb7412db740592",
            "_dom_classes": [],
            "description": "",
            "_model_name": "HTMLModel",
            "placeholder": "​",
            "_view_module": "@jupyter-widgets/controls",
            "_model_module_version": "1.5.0",
            "value": "100%",
            "_view_count": null,
            "_view_module_version": "1.5.0",
            "description_tooltip": null,
            "_model_module": "@jupyter-widgets/controls",
            "layout": "IPY_MODEL_0cd952608a9048dc98d0107099d3cebb"
          }
        },
        "97d92280512a455c8aa27b6b50aae57f": {
          "model_module": "@jupyter-widgets/controls",
          "model_name": "FloatProgressModel",
          "model_module_version": "1.5.0",
          "state": {
            "_view_name": "ProgressView",
            "style": "IPY_MODEL_ad06b49d5f7e4b518c6ce9aa43ad30bd",
            "_dom_classes": [],
            "description": "",
            "_model_name": "FloatProgressModel",
            "bar_style": "success",
            "max": 794,
            "_view_module": "@jupyter-widgets/controls",
            "_model_module_version": "1.5.0",
            "value": 794,
            "_view_count": null,
            "_view_module_version": "1.5.0",
            "orientation": "horizontal",
            "min": 0,
            "description_tooltip": null,
            "_model_module": "@jupyter-widgets/controls",
            "layout": "IPY_MODEL_4cd054df50f04e14806682b21b5eb101"
          }
        },
        "e71e1d8b97ad43dbb425812d83f68360": {
          "model_module": "@jupyter-widgets/controls",
          "model_name": "HTMLModel",
          "model_module_version": "1.5.0",
          "state": {
            "_view_name": "HTMLView",
            "style": "IPY_MODEL_c4d5fc38ea9c47f4b54f05d27aaa7846",
            "_dom_classes": [],
            "description": "",
            "_model_name": "HTMLModel",
            "placeholder": "​",
            "_view_module": "@jupyter-widgets/controls",
            "_model_module_version": "1.5.0",
            "value": " 794/794 [31:01&lt;00:00,  2.99s/it]",
            "_view_count": null,
            "_view_module_version": "1.5.0",
            "description_tooltip": null,
            "_model_module": "@jupyter-widgets/controls",
            "layout": "IPY_MODEL_0e49b24168e644389b8ab002c1816e9d"
          }
        },
        "532cb65e4b7b49f0bbdb7412db740592": {
          "model_module": "@jupyter-widgets/controls",
          "model_name": "DescriptionStyleModel",
          "model_module_version": "1.5.0",
          "state": {
            "_view_name": "StyleView",
            "_model_name": "DescriptionStyleModel",
            "description_width": "",
            "_view_module": "@jupyter-widgets/base",
            "_model_module_version": "1.5.0",
            "_view_count": null,
            "_view_module_version": "1.2.0",
            "_model_module": "@jupyter-widgets/controls"
          }
        },
        "0cd952608a9048dc98d0107099d3cebb": {
          "model_module": "@jupyter-widgets/base",
          "model_name": "LayoutModel",
          "model_module_version": "1.2.0",
          "state": {
            "_view_name": "LayoutView",
            "grid_template_rows": null,
            "right": null,
            "justify_content": null,
            "_view_module": "@jupyter-widgets/base",
            "overflow": null,
            "_model_module_version": "1.2.0",
            "_view_count": null,
            "flex_flow": null,
            "width": null,
            "min_width": null,
            "border": null,
            "align_items": null,
            "bottom": null,
            "_model_module": "@jupyter-widgets/base",
            "top": null,
            "grid_column": null,
            "overflow_y": null,
            "overflow_x": null,
            "grid_auto_flow": null,
            "grid_area": null,
            "grid_template_columns": null,
            "flex": null,
            "_model_name": "LayoutModel",
            "justify_items": null,
            "grid_row": null,
            "max_height": null,
            "align_content": null,
            "visibility": null,
            "align_self": null,
            "height": null,
            "min_height": null,
            "padding": null,
            "grid_auto_rows": null,
            "grid_gap": null,
            "max_width": null,
            "order": null,
            "_view_module_version": "1.2.0",
            "grid_template_areas": null,
            "object_position": null,
            "object_fit": null,
            "grid_auto_columns": null,
            "margin": null,
            "display": null,
            "left": null
          }
        },
        "ad06b49d5f7e4b518c6ce9aa43ad30bd": {
          "model_module": "@jupyter-widgets/controls",
          "model_name": "ProgressStyleModel",
          "model_module_version": "1.5.0",
          "state": {
            "_view_name": "StyleView",
            "_model_name": "ProgressStyleModel",
            "description_width": "",
            "_view_module": "@jupyter-widgets/base",
            "_model_module_version": "1.5.0",
            "_view_count": null,
            "_view_module_version": "1.2.0",
            "bar_color": null,
            "_model_module": "@jupyter-widgets/controls"
          }
        },
        "4cd054df50f04e14806682b21b5eb101": {
          "model_module": "@jupyter-widgets/base",
          "model_name": "LayoutModel",
          "model_module_version": "1.2.0",
          "state": {
            "_view_name": "LayoutView",
            "grid_template_rows": null,
            "right": null,
            "justify_content": null,
            "_view_module": "@jupyter-widgets/base",
            "overflow": null,
            "_model_module_version": "1.2.0",
            "_view_count": null,
            "flex_flow": null,
            "width": null,
            "min_width": null,
            "border": null,
            "align_items": null,
            "bottom": null,
            "_model_module": "@jupyter-widgets/base",
            "top": null,
            "grid_column": null,
            "overflow_y": null,
            "overflow_x": null,
            "grid_auto_flow": null,
            "grid_area": null,
            "grid_template_columns": null,
            "flex": null,
            "_model_name": "LayoutModel",
            "justify_items": null,
            "grid_row": null,
            "max_height": null,
            "align_content": null,
            "visibility": null,
            "align_self": null,
            "height": null,
            "min_height": null,
            "padding": null,
            "grid_auto_rows": null,
            "grid_gap": null,
            "max_width": null,
            "order": null,
            "_view_module_version": "1.2.0",
            "grid_template_areas": null,
            "object_position": null,
            "object_fit": null,
            "grid_auto_columns": null,
            "margin": null,
            "display": null,
            "left": null
          }
        },
        "c4d5fc38ea9c47f4b54f05d27aaa7846": {
          "model_module": "@jupyter-widgets/controls",
          "model_name": "DescriptionStyleModel",
          "model_module_version": "1.5.0",
          "state": {
            "_view_name": "StyleView",
            "_model_name": "DescriptionStyleModel",
            "description_width": "",
            "_view_module": "@jupyter-widgets/base",
            "_model_module_version": "1.5.0",
            "_view_count": null,
            "_view_module_version": "1.2.0",
            "_model_module": "@jupyter-widgets/controls"
          }
        },
        "0e49b24168e644389b8ab002c1816e9d": {
          "model_module": "@jupyter-widgets/base",
          "model_name": "LayoutModel",
          "model_module_version": "1.2.0",
          "state": {
            "_view_name": "LayoutView",
            "grid_template_rows": null,
            "right": null,
            "justify_content": null,
            "_view_module": "@jupyter-widgets/base",
            "overflow": null,
            "_model_module_version": "1.2.0",
            "_view_count": null,
            "flex_flow": null,
            "width": null,
            "min_width": null,
            "border": null,
            "align_items": null,
            "bottom": null,
            "_model_module": "@jupyter-widgets/base",
            "top": null,
            "grid_column": null,
            "overflow_y": null,
            "overflow_x": null,
            "grid_auto_flow": null,
            "grid_area": null,
            "grid_template_columns": null,
            "flex": null,
            "_model_name": "LayoutModel",
            "justify_items": null,
            "grid_row": null,
            "max_height": null,
            "align_content": null,
            "visibility": null,
            "align_self": null,
            "height": null,
            "min_height": null,
            "padding": null,
            "grid_auto_rows": null,
            "grid_gap": null,
            "max_width": null,
            "order": null,
            "_view_module_version": "1.2.0",
            "grid_template_areas": null,
            "object_position": null,
            "object_fit": null,
            "grid_auto_columns": null,
            "margin": null,
            "display": null,
            "left": null
          }
        }
      }
    }
  },
  "cells": [
    {
      "cell_type": "markdown",
      "metadata": {
        "id": "iAdnuOKIY_d3"
      },
      "source": [
        "This notebook is adapted from the original *EDA_features_ex.ipynb* notebook from the PMEmo github repository."
      ]
    },
    {
      "cell_type": "markdown",
      "metadata": {
        "id": "sGfS1DEzOWYy"
      },
      "source": [
        "# Upload data from GDrive"
      ]
    },
    {
      "cell_type": "code",
      "metadata": {
        "id": "3iKYuMdYLCsi",
        "colab": {
          "base_uri": "https://localhost:8080/"
        },
        "outputId": "40bb557c-1802-4d04-920a-d469c9d7d42e"
      },
      "source": [
        "from google.colab import drive\n",
        "drive.mount('/content/gdrive')"
      ],
      "execution_count": 1,
      "outputs": [
        {
          "output_type": "stream",
          "name": "stdout",
          "text": [
            "Mounted at /content/gdrive\n"
          ]
        }
      ]
    },
    {
      "cell_type": "code",
      "metadata": {
        "id": "6nKb8Fe_LVcC"
      },
      "source": [
        "!unzip -q '/content/gdrive/MyDrive/Colab Notebooks/INMCA_2021/PMEmo2019.zip'"
      ],
      "execution_count": 2,
      "outputs": []
    },
    {
      "cell_type": "code",
      "metadata": {
        "id": "CP4mkt41PA3L"
      },
      "source": [
        "dir_path = '/content/PMEmo2019/EDA'"
      ],
      "execution_count": 3,
      "outputs": []
    },
    {
      "cell_type": "markdown",
      "metadata": {
        "id": "H0OSnZOoJNIY"
      },
      "source": [
        "# Extract EDA Features for Static/Dynamic MER"
      ]
    },
    {
      "cell_type": "code",
      "metadata": {
        "id": "68CLdm4kPZNW"
      },
      "source": [
        "!pip install -q neurokit"
      ],
      "execution_count": null,
      "outputs": []
    },
    {
      "cell_type": "code",
      "metadata": {
        "id": "foZ-R2tQJNId"
      },
      "source": [
        "import pandas as pd\n",
        "import matplotlib.pyplot as plt\n",
        "import os\n",
        "import numpy as np\n",
        "import neurokit as nk\n",
        "from scipy import stats\n",
        "from tqdm import tqdm_notebook\n",
        "from sklearn.preprocessing import minmax_scale, scale\n",
        "from scipy.stats import kurtosis, skew\n",
        "from librosa.feature import mfcc\n",
        "import warnings\n",
        "warnings.filterwarnings(\"ignore\", category=UserWarning)"
      ],
      "execution_count": 5,
      "outputs": []
    },
    {
      "cell_type": "code",
      "metadata": {
        "id": "fQspiuv8JNIf"
      },
      "source": [
        "def window_with_overlap(a, window, stride):\n",
        "    nrows = ((a.size-window)//stride)+1\n",
        "    n = a.strides[0]\n",
        "    return np.lib.stride_tricks.as_strided(a, shape=(nrows,window), strides=(stride*n,n))\n",
        "\n",
        "def scr_features(times, phasic, SCR_Onsets, SCR_Peaks_Indexes, SCR_Peaks_Amplitudes):\n",
        "    features = {}\n",
        "    features['peakCount'] = len(SCR_Peaks_Indexes)\n",
        "    features['meanpeakAmplitude'] = np.mean(SCR_Peaks_Amplitudes)\n",
        "    RiseTime =  times[SCR_Peaks_Indexes] - times[SCR_Onsets]\n",
        "    features['MeanRiseTime'] = np.mean(RiseTime)\n",
        "    features['SumPeakAmplitude'] = np.sum(SCR_Peaks_Amplitudes)\n",
        "    features['SumRiseTime'] = np.sum(RiseTime)\n",
        "    features['SumAreas'] = np.trapz(phasic, x=times)\n",
        "    return features\n",
        "\n",
        "def time_domain_stats(times, signal):\n",
        "    features = {}\n",
        "    features['auc'] = np.trapz(signal, x=times)\n",
        "    features['meanEDA'] = np.mean(signal)\n",
        "    features['stdEDA'] = np.std(signal)\n",
        "    features['kurtEDA'] = kurtosis(signal)\n",
        "    features['skewEDA'] = skew(signal)\n",
        "    features['meanDerivative'] = np.mean(np.gradient(signal))\n",
        "    features['meanNegativeDerivative'] = np.mean((0-np.gradient(signal)))\n",
        "    return features\n",
        "\n",
        "def frequency_domain_stats(frequency_signal, frequency):\n",
        "    features = {}\n",
        "    features['SMA_f'] = np.trapz(np.abs(frequency_signal), x=frequency)\n",
        "    features['meanEDA_f'] = np.mean(frequency_signal)\n",
        "    features['stdEDA_f'] = np.std(frequency_signal)\n",
        "    features['signalRange_f'] = frequency_signal.max() - frequency_signal.min()\n",
        "    features['kurtEDA_f'] = kurtosis(frequency_signal)\n",
        "    features['skewEDA_f'] = skew(frequency_signal)\n",
        "#     FrequencyDomain_Statistical['harmonicsSummation']\n",
        "    return features\n",
        "\n",
        "def band_power(frequency_signal, frequency):\n",
        "    features = {}\n",
        "    signal_inbands = frequency_signal[(frequency>=0) & (frequency<=0.5)]\n",
        "    features['signalEnergy'] = np.sum(np.abs(signal_inbands)**2)\n",
        "    band1 = frequency_signal[(frequency>=0) & (frequency<0.1)]\n",
        "    band2 = frequency_signal[(frequency>=0.1) & (frequency<0.2)]\n",
        "    band3 = frequency_signal[(frequency>=0.2) & (frequency<0.3)]\n",
        "    band4 = frequency_signal[(frequency>=0.3) & (frequency<0.4)]\n",
        "    band5 = frequency_signal[(frequency>=0.4) & (frequency<=0.5)]\n",
        "    bands = [band1, band2, band3, band4, band5]\n",
        "    bands_sp = np.zeros(len(bands))\n",
        "    for i, b in enumerate(bands):\n",
        "        sp = np.sum(b**2)\n",
        "        bands_sp[i] = sp\n",
        "        features['SpectralPower_band'+str(i+1)] = sp\n",
        "    features['minSpectralPower'] = np.min(bands_sp)\n",
        "    features['maxSpectralPower'] = np.max(bands_sp)\n",
        "    features['varSpectralPower'] = np.var(bands_sp)\n",
        "    \n",
        "    return features\n",
        "\n",
        "        \n",
        "def extract_eda_features(raw_eda, sampleRate=50, ifDynamic=False, window=50, stride=25):\n",
        "    normalized_data = minmax_scale(raw_eda.reshape(-1, 1)).reshape(-1,)\n",
        "    processed_results = nk.eda_process(normalized_data, sampling_rate=sampleRate)\n",
        "\n",
        "    filtered_eda = processed_results['df']['EDA_Filtered']\n",
        "    tonic = processed_results['df']['EDA_Tonic']\n",
        "    phasic = processed_results['df']['EDA_Phasic']\n",
        "    \n",
        "    SCR_Onsets = processed_results['EDA']['SCR_Onsets']\n",
        "    SCR_Peaks_Indexes  = processed_results['EDA']['SCR_Peaks_Indexes']\n",
        "    SCR_Recovery_Indexes = processed_results['EDA']['SCR_Recovery_Indexes']\n",
        "    SCR_Peaks_Amplitudes = processed_results['EDA']['SCR_Peaks_Amplitudes']\n",
        "    \n",
        "    signal = phasic\n",
        "    times = np.arange(len(signal))/sampleRate\n",
        "\n",
        "    features = pd.DataFrame()\n",
        "    \n",
        "    # static features 33 dimension\n",
        "    if not ifDynamic:\n",
        "        eda_features = {}\n",
        "        # Time Domain: SCR Features, Statistical Features\n",
        "        SCR_Features = scr_features(times, phasic, SCR_Onsets, \n",
        "                                    SCR_Peaks_Indexes, SCR_Peaks_Amplitudes)\n",
        "        \n",
        "        TimeStats = time_domain_stats(times, signal)\n",
        "        # Frequency Domain: Statistical Features, Band Power\n",
        "        frequency_signal = np.abs(np.fft.fft(signal))\n",
        "        frequency = np.fft.fftfreq(signal.size, d=1/sampleRate)\n",
        "        FrequencyStats = frequency_domain_stats(frequency_signal, frequency)\n",
        "        BandPower = band_power(frequency_signal, frequency)\n",
        "        \n",
        "        eda_features.update(SCR_Features)\n",
        "        eda_features.update(TimeStats)\n",
        "        eda_features.update(FrequencyStats)\n",
        "        eda_features.update(BandPower)\n",
        "        \n",
        "        # Time-Frequency Domain: MFCC Features\n",
        "        n_mfcc = 20\n",
        "        mfccCoefficients = mfcc(signal.values, sr=sampleRate, n_mfcc=n_mfcc)\n",
        "        for i in range(n_mfcc):\n",
        "            mfccCoef = mfccCoefficients[i,:]\n",
        "            eda_features[f'meanMFCC[{i}]'] = np.mean(mfccCoef)\n",
        "            eda_features[f'stdMFCC[{i}]'] = np.std(mfccCoef)\n",
        "            eda_features[f'medianMFCC[{i}]'] = np.median(mfccCoef)\n",
        "            eda_features[f'kurtMFCC[{i}]'] = kurtosis(mfccCoef.reshape(-1,))\n",
        "            eda_features[f'skewMFCC[{i}]'] = skew(mfccCoef.reshape(-1,))\n",
        "        features = pd.DataFrame(data=eda_features, index=[0])\n",
        "        \n",
        "    else: # dynamic features\n",
        "        frames = window_with_overlap(signal, window, stride)\n",
        "        time_frames = window_with_overlap(times, window, stride)\n",
        "        \n",
        "        for fidx, frame in enumerate(frames):\n",
        "            eda_features = {}\n",
        "            frame_time = fidx*0.5+1\n",
        "            times = time_frames[fidx]\n",
        "            eda_features['frameTime'] = frame_time\n",
        "        \n",
        "            # Time Domain: Statistical Features\n",
        "            TimeStats = time_domain_stats(times, frame)\n",
        "            \n",
        "            # Frequency Domain: Statistical Features, Band Power\n",
        "            frequency_signal = np.abs(np.fft.fft(frame))\n",
        "            frequency = np.fft.fftfreq(frame.size, d=1/sampleRate)\n",
        "            FrequencyStats = frequency_domain_stats(frequency_signal, frequency)\n",
        "            BandPower = band_power(frequency_signal, frequency)\n",
        "\n",
        "            eda_features.update(TimeStats)\n",
        "            eda_features.update(FrequencyStats)\n",
        "            eda_features.update(BandPower)   \n",
        "\n",
        "            # Time-Frequency Domain: MFCC Features\n",
        "            n_mfcc = 20\n",
        "            mfccCoefficients = mfcc(frame, sr=sampleRate, n_mfcc=n_mfcc).reshape(-1,)\n",
        "            for i in range(mfccCoefficients.size):\n",
        "                eda_features[f'mfccCoefficient[{i}]'] = mfccCoefficients[i]\n",
        "            eda_features['meanMFCC'] = np.mean(mfccCoefficients)\n",
        "            eda_features['stdMFCC'] = np.std(mfccCoefficients)\n",
        "            eda_features['medianMFCC'] = np.median(mfccCoefficients)\n",
        "            eda_features['kurtMFCC'] = kurtosis(mfccCoefficients.reshape(-1,))\n",
        "            eda_features['skewMFCC'] = skew(mfccCoefficients.reshape(-1,))\n",
        "            features = features.append(pd.DataFrame(data=eda_features, index=[i]))\n",
        "        \n",
        "    return features\n"
      ],
      "execution_count": 6,
      "outputs": []
    },
    {
      "cell_type": "markdown",
      "metadata": {
        "id": "w1NJ2x81JNIk"
      },
      "source": [
        "## Compute the static EDA features for songs"
      ]
    },
    {
      "cell_type": "code",
      "metadata": {
        "scrolled": true,
        "id": "2BuK2KOvJNIl",
        "colab": {
          "base_uri": "https://localhost:8080/",
          "height": 168,
          "referenced_widgets": [
            "3faf8f8869c34cbab7968fc68aed4047",
            "a073ea9afaf34eb09975f1fb08460237",
            "54abe19172bc4c9aa4efeba415005d4d",
            "97d92280512a455c8aa27b6b50aae57f",
            "e71e1d8b97ad43dbb425812d83f68360",
            "532cb65e4b7b49f0bbdb7412db740592",
            "0cd952608a9048dc98d0107099d3cebb",
            "ad06b49d5f7e4b518c6ce9aa43ad30bd",
            "4cd054df50f04e14806682b21b5eb101",
            "c4d5fc38ea9c47f4b54f05d27aaa7846",
            "0e49b24168e644389b8ab002c1816e9d"
          ]
        },
        "outputId": "e81f6061-9d7c-4cdd-a820-b60306f18794"
      },
      "source": [
        "dir_path = dir_path\n",
        "eda_files = [f for f in os.listdir(dir_path) if f[-4:]=='.csv']\n",
        "results = pd.DataFrame()\n",
        "# window = 50\n",
        "# stride = 25\n",
        "for f in tqdm_notebook(eda_files):\n",
        "# for f in ['1_EDA.csv', '4_EDA.csv']:\n",
        "    musicId = f.split('_')[0]\n",
        "    raw_eda = pd.read_csv(os.path.join(dir_path, f), index_col=0)\n",
        "#     row_num, col_num = raw_eda.shape[0], raw_eda.shape[1]-1\n",
        "\n",
        "    for c in raw_eda.columns:\n",
        "        subjectId = c[-6:]\n",
        "        features = extract_eda_features(raw_eda[c].values)\n",
        "        features['subjectId'] = subjectId\n",
        "        features['musicId'] = musicId\n",
        "        results = results.append(features)\n",
        "\n",
        "results.fillna(0)\n",
        "results.to_csv('EDA_features_static.csv', index=False, columns=['subjectId', 'musicId']+list(results.columns[:-2]))"
      ],
      "execution_count": 7,
      "outputs": [
        {
          "output_type": "stream",
          "name": "stderr",
          "text": [
            "/usr/local/lib/python3.7/dist-packages/ipykernel_launcher.py:6: TqdmDeprecationWarning: This function will be removed in tqdm==5.0.0\n",
            "Please use `tqdm.notebook.tqdm` instead of `tqdm.tqdm_notebook`\n",
            "  \n"
          ]
        },
        {
          "output_type": "display_data",
          "data": {
            "application/vnd.jupyter.widget-view+json": {
              "model_id": "3faf8f8869c34cbab7968fc68aed4047",
              "version_minor": 0,
              "version_major": 2
            },
            "text/plain": [
              "  0%|          | 0/794 [00:00<?, ?it/s]"
            ]
          },
          "metadata": {}
        },
        {
          "output_type": "stream",
          "name": "stderr",
          "text": [
            "/usr/local/lib/python3.7/dist-packages/numpy/core/fromnumeric.py:3373: RuntimeWarning: Mean of empty slice.\n",
            "  out=out, **kwargs)\n",
            "/usr/local/lib/python3.7/dist-packages/numpy/core/_methods.py:170: RuntimeWarning: invalid value encountered in double_scalars\n",
            "  ret = ret.dtype.type(ret / rcount)\n"
          ]
        }
      ]
    },
    {
      "cell_type": "code",
      "metadata": {
        "scrolled": true,
        "id": "vegtrBxmJNIm"
      },
      "source": [
        "eda_feature_set = pd.read_csv('EDA_features_static.csv')\n",
        "static_labels = pd.read_csv('/content/PMEmo2019/annotations/static_annotations.csv')\n",
        "eda_dataset = pd.merge(eda_feature_set, static_labels, on=['musicId']).dropna()\n",
        "eda_dataset.to_csv('eda_dataset.csv', index=False)"
      ],
      "execution_count": 8,
      "outputs": []
    },
    {
      "cell_type": "code",
      "metadata": {
        "id": "srxwKMR0XwzK"
      },
      "source": [
        "!cp -r EDA_features_static.csv '/content/gdrive/MyDrive/Colab Notebooks/INMCA_2021/CSV/EDA_features_static.csv'\n",
        "!cp -r eda_dataset.csv '/content/gdrive/MyDrive/Colab Notebooks/INMCA_2021/CSV/eda_dataset.csv'"
      ],
      "execution_count": 9,
      "outputs": []
    }
  ]
}